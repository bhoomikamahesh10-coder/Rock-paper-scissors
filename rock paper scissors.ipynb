{
  "nbformat": 4,
  "nbformat_minor": 0,
  "metadata": {
    "colab": {
      "provenance": []
    },
    "kernelspec": {
      "name": "python3",
      "display_name": "Python 3"
    },
    "language_info": {
      "name": "python"
    }
  },
  "cells": [
    {
      "cell_type": "code",
      "execution_count": null,
      "metadata": {
        "colab": {
          "base_uri": "https://localhost:8080/"
        },
        "id": "wp7qM3R65Z7Q",
        "outputId": "db53808a-ea08-4ccd-cef4-199340a7689d"
      },
      "outputs": [
        {
          "output_type": "stream",
          "name": "stdout",
          "text": [
            "Round 1: Player=rock, Computer=paper → Computer wins!\n",
            "Round 2: Player=rock, Computer=paper → Computer wins!\n",
            "Round 3: Player=scissors, Computer=rock → Computer wins!\n",
            "Round 4: Player=scissors, Computer=paper → Player wins!\n",
            "Round 5: Player=scissors, Computer=paper → Player wins!\n",
            "Round 6: Player=paper, Computer=rock → Player wins!\n",
            "Round 7: Player=rock, Computer=rock → Tie\n",
            "Round 8: Player=paper, Computer=rock → Player wins!\n",
            "Round 9: Player=scissors, Computer=paper → Player wins!\n",
            "Round 10: Player=scissors, Computer=paper → Player wins!\n"
          ]
        }
      ],
      "source": [
        "import random\n",
        "\n",
        "choices = [\"rock\", \"paper\", \"scissors\"]\n",
        "\n",
        "def play_round(player, computer):\n",
        "    if player == computer:\n",
        "        return \"Tie\"\n",
        "    elif (player == \"rock\" and computer == \"scissors\") \\\n",
        "         or (player == \"scissors\" and computer == \"paper\") \\\n",
        "         or (player == \"paper\" and computer == \"rock\"):\n",
        "        return \"Player wins!\"\n",
        "    else:\n",
        "        return \"Computer wins!\"\n",
        "\n",
        "# Example: play 10 rounds automatically\n",
        "for i in range(10):\n",
        "    player_choice = random.choice(choices)\n",
        "    computer_choice = random.choice(choices)\n",
        "    result = play_round(player_choice, computer_choice)\n",
        "    print(f\"Round {i+1}: Player={player_choice}, Computer={computer_choice} → {result}\")"
      ]
    }
  ]
}